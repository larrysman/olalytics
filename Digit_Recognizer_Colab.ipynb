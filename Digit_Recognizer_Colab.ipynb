{
 "cells": [
  {
   "cell_type": "code",
   "execution_count": 72,
   "metadata": {
    "colab": {
     "base_uri": "https://localhost:8080/"
    },
    "id": "ABHVf2GsQfBe",
    "outputId": "edf53212-d8c0-4385-aad5-9a776f8a4f53"
   },
   "outputs": [
    {
     "name": "stdout",
     "output_type": "stream",
     "text": [
      "Drive already mounted at /content/drive; to attempt to forcibly remount, call drive.mount(\"/content/drive\", force_remount=True).\n"
     ]
    }
   ],
   "source": [
    "from google.colab import drive\n",
    "drive.mount('/content/drive')"
   ]
  },
  {
   "cell_type": "code",
   "execution_count": 73,
   "metadata": {
    "id": "5onYKZjgSdp_"
   },
   "outputs": [],
   "source": [
    "data_path = '/content/drive/MyDrive/disease_prediction_techtern/data'\n",
    "\n",
    "transform_path = '/content/drive/MyDrive/disease_prediction_techtern/data_transforms'\n",
    "\n",
    "model_path = '/content/drive/MyDrive/disease_prediction_techtern/models'\n",
    "\n",
    "output_path = '/content/drive/MyDrive/disease_prediction_techtern/outputs'\n",
    "\n",
    "visual_path = '/content/drive/MyDrive/disease_prediction_techtern/visuals'\n"
   ]
  },
  {
   "cell_type": "code",
   "execution_count": 74,
   "metadata": {
    "id": "-hiPhl4BYqjY"
   },
   "outputs": [],
   "source": [
    "# Reserved for JIT installations"
   ]
  },
  {
   "cell_type": "code",
   "execution_count": 75,
   "metadata": {
    "colab": {
     "base_uri": "https://localhost:8080/"
    },
    "id": "u4ct2Y75ZZes",
    "outputId": "bc29a6f7-f0e5-489f-f760-2f812a5ff537"
   },
   "outputs": [
    {
     "name": "stdout",
     "output_type": "stream",
     "text": [
      "Requirement already satisfied: tensorflow in /usr/local/lib/python3.10/dist-packages (2.15.0)\n",
      "Requirement already satisfied: absl-py>=1.0.0 in /usr/local/lib/python3.10/dist-packages (from tensorflow) (1.4.0)\n",
      "Requirement already satisfied: astunparse>=1.6.0 in /usr/local/lib/python3.10/dist-packages (from tensorflow) (1.6.3)\n",
      "Requirement already satisfied: flatbuffers>=23.5.26 in /usr/local/lib/python3.10/dist-packages (from tensorflow) (24.3.7)\n",
      "Requirement already satisfied: gast!=0.5.0,!=0.5.1,!=0.5.2,>=0.2.1 in /usr/local/lib/python3.10/dist-packages (from tensorflow) (0.5.4)\n",
      "Requirement already satisfied: google-pasta>=0.1.1 in /usr/local/lib/python3.10/dist-packages (from tensorflow) (0.2.0)\n",
      "Requirement already satisfied: h5py>=2.9.0 in /usr/local/lib/python3.10/dist-packages (from tensorflow) (3.9.0)\n",
      "Requirement already satisfied: libclang>=13.0.0 in /usr/local/lib/python3.10/dist-packages (from tensorflow) (18.1.1)\n",
      "Requirement already satisfied: ml-dtypes~=0.2.0 in /usr/local/lib/python3.10/dist-packages (from tensorflow) (0.2.0)\n",
      "Requirement already satisfied: numpy<2.0.0,>=1.23.5 in /usr/local/lib/python3.10/dist-packages (from tensorflow) (1.25.2)\n",
      "Requirement already satisfied: opt-einsum>=2.3.2 in /usr/local/lib/python3.10/dist-packages (from tensorflow) (3.3.0)\n",
      "Requirement already satisfied: packaging in /usr/local/lib/python3.10/dist-packages (from tensorflow) (24.0)\n",
      "Requirement already satisfied: protobuf!=4.21.0,!=4.21.1,!=4.21.2,!=4.21.3,!=4.21.4,!=4.21.5,<5.0.0dev,>=3.20.3 in /usr/local/lib/python3.10/dist-packages (from tensorflow) (3.20.3)\n",
      "Requirement already satisfied: setuptools in /usr/local/lib/python3.10/dist-packages (from tensorflow) (67.7.2)\n",
      "Requirement already satisfied: six>=1.12.0 in /usr/local/lib/python3.10/dist-packages (from tensorflow) (1.16.0)\n",
      "Requirement already satisfied: termcolor>=1.1.0 in /usr/local/lib/python3.10/dist-packages (from tensorflow) (2.4.0)\n",
      "Requirement already satisfied: typing-extensions>=3.6.6 in /usr/local/lib/python3.10/dist-packages (from tensorflow) (4.10.0)\n",
      "Requirement already satisfied: wrapt<1.15,>=1.11.0 in /usr/local/lib/python3.10/dist-packages (from tensorflow) (1.14.1)\n",
      "Requirement already satisfied: tensorflow-io-gcs-filesystem>=0.23.1 in /usr/local/lib/python3.10/dist-packages (from tensorflow) (0.36.0)\n",
      "Requirement already satisfied: grpcio<2.0,>=1.24.3 in /usr/local/lib/python3.10/dist-packages (from tensorflow) (1.62.1)\n",
      "Requirement already satisfied: tensorboard<2.16,>=2.15 in /usr/local/lib/python3.10/dist-packages (from tensorflow) (2.15.2)\n",
      "Requirement already satisfied: tensorflow-estimator<2.16,>=2.15.0 in /usr/local/lib/python3.10/dist-packages (from tensorflow) (2.15.0)\n",
      "Requirement already satisfied: keras<2.16,>=2.15.0 in /usr/local/lib/python3.10/dist-packages (from tensorflow) (2.15.0)\n",
      "Requirement already satisfied: wheel<1.0,>=0.23.0 in /usr/local/lib/python3.10/dist-packages (from astunparse>=1.6.0->tensorflow) (0.43.0)\n",
      "Requirement already satisfied: google-auth<3,>=1.6.3 in /usr/local/lib/python3.10/dist-packages (from tensorboard<2.16,>=2.15->tensorflow) (2.27.0)\n",
      "Requirement already satisfied: google-auth-oauthlib<2,>=0.5 in /usr/local/lib/python3.10/dist-packages (from tensorboard<2.16,>=2.15->tensorflow) (1.2.0)\n",
      "Requirement already satisfied: markdown>=2.6.8 in /usr/local/lib/python3.10/dist-packages (from tensorboard<2.16,>=2.15->tensorflow) (3.6)\n",
      "Requirement already satisfied: requests<3,>=2.21.0 in /usr/local/lib/python3.10/dist-packages (from tensorboard<2.16,>=2.15->tensorflow) (2.31.0)\n",
      "Requirement already satisfied: tensorboard-data-server<0.8.0,>=0.7.0 in /usr/local/lib/python3.10/dist-packages (from tensorboard<2.16,>=2.15->tensorflow) (0.7.2)\n",
      "Requirement already satisfied: werkzeug>=1.0.1 in /usr/local/lib/python3.10/dist-packages (from tensorboard<2.16,>=2.15->tensorflow) (3.0.1)\n",
      "Requirement already satisfied: cachetools<6.0,>=2.0.0 in /usr/local/lib/python3.10/dist-packages (from google-auth<3,>=1.6.3->tensorboard<2.16,>=2.15->tensorflow) (5.3.3)\n",
      "Requirement already satisfied: pyasn1-modules>=0.2.1 in /usr/local/lib/python3.10/dist-packages (from google-auth<3,>=1.6.3->tensorboard<2.16,>=2.15->tensorflow) (0.3.0)\n",
      "Requirement already satisfied: rsa<5,>=3.1.4 in /usr/local/lib/python3.10/dist-packages (from google-auth<3,>=1.6.3->tensorboard<2.16,>=2.15->tensorflow) (4.9)\n",
      "Requirement already satisfied: requests-oauthlib>=0.7.0 in /usr/local/lib/python3.10/dist-packages (from google-auth-oauthlib<2,>=0.5->tensorboard<2.16,>=2.15->tensorflow) (1.4.0)\n",
      "Requirement already satisfied: charset-normalizer<4,>=2 in /usr/local/lib/python3.10/dist-packages (from requests<3,>=2.21.0->tensorboard<2.16,>=2.15->tensorflow) (3.3.2)\n",
      "Requirement already satisfied: idna<4,>=2.5 in /usr/local/lib/python3.10/dist-packages (from requests<3,>=2.21.0->tensorboard<2.16,>=2.15->tensorflow) (3.6)\n",
      "Requirement already satisfied: urllib3<3,>=1.21.1 in /usr/local/lib/python3.10/dist-packages (from requests<3,>=2.21.0->tensorboard<2.16,>=2.15->tensorflow) (2.0.7)\n",
      "Requirement already satisfied: certifi>=2017.4.17 in /usr/local/lib/python3.10/dist-packages (from requests<3,>=2.21.0->tensorboard<2.16,>=2.15->tensorflow) (2024.2.2)\n",
      "Requirement already satisfied: MarkupSafe>=2.1.1 in /usr/local/lib/python3.10/dist-packages (from werkzeug>=1.0.1->tensorboard<2.16,>=2.15->tensorflow) (2.1.5)\n",
      "Requirement already satisfied: pyasn1<0.6.0,>=0.4.6 in /usr/local/lib/python3.10/dist-packages (from pyasn1-modules>=0.2.1->google-auth<3,>=1.6.3->tensorboard<2.16,>=2.15->tensorflow) (0.5.1)\n",
      "Requirement already satisfied: oauthlib>=3.0.0 in /usr/local/lib/python3.10/dist-packages (from requests-oauthlib>=0.7.0->google-auth-oauthlib<2,>=0.5->tensorboard<2.16,>=2.15->tensorflow) (3.2.2)\n"
     ]
    }
   ],
   "source": [
    "!pip install tensorflow"
   ]
  },
  {
   "cell_type": "code",
   "execution_count": 76,
   "metadata": {
    "id": "mQRIdtYiZg0D"
   },
   "outputs": [],
   "source": [
    "import tensorflow as tf\n",
    "from tensorflow import keras\n",
    "import matplotlib.pyplot as plt\n",
    "%matplotlib inline\n",
    "import numpy as np"
   ]
  },
  {
   "cell_type": "code",
   "execution_count": 77,
   "metadata": {
    "id": "0ALRdIXWZ9Cv"
   },
   "outputs": [],
   "source": [
    "# Load dataset from keras - The digit dataset from keras just to run a complete ideas on CNN"
   ]
  },
  {
   "cell_type": "code",
   "execution_count": 78,
   "metadata": {
    "colab": {
     "base_uri": "https://localhost:8080/"
    },
    "id": "eqtXKuEmb4ar",
    "outputId": "266503ee-f18d-4f5f-845b-9b6b5725891c"
   },
   "outputs": [
    {
     "data": {
      "text/plain": [
       "((array([[[0, 0, 0, ..., 0, 0, 0],\n",
       "          [0, 0, 0, ..., 0, 0, 0],\n",
       "          [0, 0, 0, ..., 0, 0, 0],\n",
       "          ...,\n",
       "          [0, 0, 0, ..., 0, 0, 0],\n",
       "          [0, 0, 0, ..., 0, 0, 0],\n",
       "          [0, 0, 0, ..., 0, 0, 0]],\n",
       "  \n",
       "         [[0, 0, 0, ..., 0, 0, 0],\n",
       "          [0, 0, 0, ..., 0, 0, 0],\n",
       "          [0, 0, 0, ..., 0, 0, 0],\n",
       "          ...,\n",
       "          [0, 0, 0, ..., 0, 0, 0],\n",
       "          [0, 0, 0, ..., 0, 0, 0],\n",
       "          [0, 0, 0, ..., 0, 0, 0]],\n",
       "  \n",
       "         [[0, 0, 0, ..., 0, 0, 0],\n",
       "          [0, 0, 0, ..., 0, 0, 0],\n",
       "          [0, 0, 0, ..., 0, 0, 0],\n",
       "          ...,\n",
       "          [0, 0, 0, ..., 0, 0, 0],\n",
       "          [0, 0, 0, ..., 0, 0, 0],\n",
       "          [0, 0, 0, ..., 0, 0, 0]],\n",
       "  \n",
       "         ...,\n",
       "  \n",
       "         [[0, 0, 0, ..., 0, 0, 0],\n",
       "          [0, 0, 0, ..., 0, 0, 0],\n",
       "          [0, 0, 0, ..., 0, 0, 0],\n",
       "          ...,\n",
       "          [0, 0, 0, ..., 0, 0, 0],\n",
       "          [0, 0, 0, ..., 0, 0, 0],\n",
       "          [0, 0, 0, ..., 0, 0, 0]],\n",
       "  \n",
       "         [[0, 0, 0, ..., 0, 0, 0],\n",
       "          [0, 0, 0, ..., 0, 0, 0],\n",
       "          [0, 0, 0, ..., 0, 0, 0],\n",
       "          ...,\n",
       "          [0, 0, 0, ..., 0, 0, 0],\n",
       "          [0, 0, 0, ..., 0, 0, 0],\n",
       "          [0, 0, 0, ..., 0, 0, 0]],\n",
       "  \n",
       "         [[0, 0, 0, ..., 0, 0, 0],\n",
       "          [0, 0, 0, ..., 0, 0, 0],\n",
       "          [0, 0, 0, ..., 0, 0, 0],\n",
       "          ...,\n",
       "          [0, 0, 0, ..., 0, 0, 0],\n",
       "          [0, 0, 0, ..., 0, 0, 0],\n",
       "          [0, 0, 0, ..., 0, 0, 0]]], dtype=uint8),\n",
       "  array([5, 0, 4, ..., 5, 6, 8], dtype=uint8)),\n",
       " (array([[[0, 0, 0, ..., 0, 0, 0],\n",
       "          [0, 0, 0, ..., 0, 0, 0],\n",
       "          [0, 0, 0, ..., 0, 0, 0],\n",
       "          ...,\n",
       "          [0, 0, 0, ..., 0, 0, 0],\n",
       "          [0, 0, 0, ..., 0, 0, 0],\n",
       "          [0, 0, 0, ..., 0, 0, 0]],\n",
       "  \n",
       "         [[0, 0, 0, ..., 0, 0, 0],\n",
       "          [0, 0, 0, ..., 0, 0, 0],\n",
       "          [0, 0, 0, ..., 0, 0, 0],\n",
       "          ...,\n",
       "          [0, 0, 0, ..., 0, 0, 0],\n",
       "          [0, 0, 0, ..., 0, 0, 0],\n",
       "          [0, 0, 0, ..., 0, 0, 0]],\n",
       "  \n",
       "         [[0, 0, 0, ..., 0, 0, 0],\n",
       "          [0, 0, 0, ..., 0, 0, 0],\n",
       "          [0, 0, 0, ..., 0, 0, 0],\n",
       "          ...,\n",
       "          [0, 0, 0, ..., 0, 0, 0],\n",
       "          [0, 0, 0, ..., 0, 0, 0],\n",
       "          [0, 0, 0, ..., 0, 0, 0]],\n",
       "  \n",
       "         ...,\n",
       "  \n",
       "         [[0, 0, 0, ..., 0, 0, 0],\n",
       "          [0, 0, 0, ..., 0, 0, 0],\n",
       "          [0, 0, 0, ..., 0, 0, 0],\n",
       "          ...,\n",
       "          [0, 0, 0, ..., 0, 0, 0],\n",
       "          [0, 0, 0, ..., 0, 0, 0],\n",
       "          [0, 0, 0, ..., 0, 0, 0]],\n",
       "  \n",
       "         [[0, 0, 0, ..., 0, 0, 0],\n",
       "          [0, 0, 0, ..., 0, 0, 0],\n",
       "          [0, 0, 0, ..., 0, 0, 0],\n",
       "          ...,\n",
       "          [0, 0, 0, ..., 0, 0, 0],\n",
       "          [0, 0, 0, ..., 0, 0, 0],\n",
       "          [0, 0, 0, ..., 0, 0, 0]],\n",
       "  \n",
       "         [[0, 0, 0, ..., 0, 0, 0],\n",
       "          [0, 0, 0, ..., 0, 0, 0],\n",
       "          [0, 0, 0, ..., 0, 0, 0],\n",
       "          ...,\n",
       "          [0, 0, 0, ..., 0, 0, 0],\n",
       "          [0, 0, 0, ..., 0, 0, 0],\n",
       "          [0, 0, 0, ..., 0, 0, 0]]], dtype=uint8),\n",
       "  array([7, 2, 1, ..., 4, 5, 6], dtype=uint8)))"
      ]
     },
     "execution_count": 78,
     "metadata": {},
     "output_type": "execute_result"
    }
   ],
   "source": [
    "dataset = keras.datasets.mnist.load_data()\n",
    "dataset[:2]"
   ]
  },
  {
   "cell_type": "code",
   "execution_count": 79,
   "metadata": {
    "colab": {
     "base_uri": "https://localhost:8080/"
    },
    "id": "hxqMvrFlcERR",
    "outputId": "06fa7c77-ddd8-4df0-9cae-8890c810b3ba"
   },
   "outputs": [
    {
     "data": {
      "text/plain": [
       "(array([[[0, 0, 0, ..., 0, 0, 0],\n",
       "         [0, 0, 0, ..., 0, 0, 0],\n",
       "         [0, 0, 0, ..., 0, 0, 0],\n",
       "         ...,\n",
       "         [0, 0, 0, ..., 0, 0, 0],\n",
       "         [0, 0, 0, ..., 0, 0, 0],\n",
       "         [0, 0, 0, ..., 0, 0, 0]],\n",
       " \n",
       "        [[0, 0, 0, ..., 0, 0, 0],\n",
       "         [0, 0, 0, ..., 0, 0, 0],\n",
       "         [0, 0, 0, ..., 0, 0, 0],\n",
       "         ...,\n",
       "         [0, 0, 0, ..., 0, 0, 0],\n",
       "         [0, 0, 0, ..., 0, 0, 0],\n",
       "         [0, 0, 0, ..., 0, 0, 0]],\n",
       " \n",
       "        [[0, 0, 0, ..., 0, 0, 0],\n",
       "         [0, 0, 0, ..., 0, 0, 0],\n",
       "         [0, 0, 0, ..., 0, 0, 0],\n",
       "         ...,\n",
       "         [0, 0, 0, ..., 0, 0, 0],\n",
       "         [0, 0, 0, ..., 0, 0, 0],\n",
       "         [0, 0, 0, ..., 0, 0, 0]],\n",
       " \n",
       "        ...,\n",
       " \n",
       "        [[0, 0, 0, ..., 0, 0, 0],\n",
       "         [0, 0, 0, ..., 0, 0, 0],\n",
       "         [0, 0, 0, ..., 0, 0, 0],\n",
       "         ...,\n",
       "         [0, 0, 0, ..., 0, 0, 0],\n",
       "         [0, 0, 0, ..., 0, 0, 0],\n",
       "         [0, 0, 0, ..., 0, 0, 0]],\n",
       " \n",
       "        [[0, 0, 0, ..., 0, 0, 0],\n",
       "         [0, 0, 0, ..., 0, 0, 0],\n",
       "         [0, 0, 0, ..., 0, 0, 0],\n",
       "         ...,\n",
       "         [0, 0, 0, ..., 0, 0, 0],\n",
       "         [0, 0, 0, ..., 0, 0, 0],\n",
       "         [0, 0, 0, ..., 0, 0, 0]],\n",
       " \n",
       "        [[0, 0, 0, ..., 0, 0, 0],\n",
       "         [0, 0, 0, ..., 0, 0, 0],\n",
       "         [0, 0, 0, ..., 0, 0, 0],\n",
       "         ...,\n",
       "         [0, 0, 0, ..., 0, 0, 0],\n",
       "         [0, 0, 0, ..., 0, 0, 0],\n",
       "         [0, 0, 0, ..., 0, 0, 0]]], dtype=uint8),\n",
       " array([5, 0, 4, ..., 5, 6, 8], dtype=uint8))"
      ]
     },
     "execution_count": 79,
     "metadata": {},
     "output_type": "execute_result"
    }
   ],
   "source": [
    "dataset[0]"
   ]
  },
  {
   "cell_type": "code",
   "execution_count": 80,
   "metadata": {
    "colab": {
     "base_uri": "https://localhost:8080/"
    },
    "id": "zzjO0mSqc7GW",
    "outputId": "6c9ab002-1600-430e-abee-ef4481f308dd"
   },
   "outputs": [
    {
     "data": {
      "text/plain": [
       "array([[[0, 0, 0, ..., 0, 0, 0],\n",
       "        [0, 0, 0, ..., 0, 0, 0],\n",
       "        [0, 0, 0, ..., 0, 0, 0],\n",
       "        ...,\n",
       "        [0, 0, 0, ..., 0, 0, 0],\n",
       "        [0, 0, 0, ..., 0, 0, 0],\n",
       "        [0, 0, 0, ..., 0, 0, 0]],\n",
       "\n",
       "       [[0, 0, 0, ..., 0, 0, 0],\n",
       "        [0, 0, 0, ..., 0, 0, 0],\n",
       "        [0, 0, 0, ..., 0, 0, 0],\n",
       "        ...,\n",
       "        [0, 0, 0, ..., 0, 0, 0],\n",
       "        [0, 0, 0, ..., 0, 0, 0],\n",
       "        [0, 0, 0, ..., 0, 0, 0]],\n",
       "\n",
       "       [[0, 0, 0, ..., 0, 0, 0],\n",
       "        [0, 0, 0, ..., 0, 0, 0],\n",
       "        [0, 0, 0, ..., 0, 0, 0],\n",
       "        ...,\n",
       "        [0, 0, 0, ..., 0, 0, 0],\n",
       "        [0, 0, 0, ..., 0, 0, 0],\n",
       "        [0, 0, 0, ..., 0, 0, 0]],\n",
       "\n",
       "       ...,\n",
       "\n",
       "       [[0, 0, 0, ..., 0, 0, 0],\n",
       "        [0, 0, 0, ..., 0, 0, 0],\n",
       "        [0, 0, 0, ..., 0, 0, 0],\n",
       "        ...,\n",
       "        [0, 0, 0, ..., 0, 0, 0],\n",
       "        [0, 0, 0, ..., 0, 0, 0],\n",
       "        [0, 0, 0, ..., 0, 0, 0]],\n",
       "\n",
       "       [[0, 0, 0, ..., 0, 0, 0],\n",
       "        [0, 0, 0, ..., 0, 0, 0],\n",
       "        [0, 0, 0, ..., 0, 0, 0],\n",
       "        ...,\n",
       "        [0, 0, 0, ..., 0, 0, 0],\n",
       "        [0, 0, 0, ..., 0, 0, 0],\n",
       "        [0, 0, 0, ..., 0, 0, 0]],\n",
       "\n",
       "       [[0, 0, 0, ..., 0, 0, 0],\n",
       "        [0, 0, 0, ..., 0, 0, 0],\n",
       "        [0, 0, 0, ..., 0, 0, 0],\n",
       "        ...,\n",
       "        [0, 0, 0, ..., 0, 0, 0],\n",
       "        [0, 0, 0, ..., 0, 0, 0],\n",
       "        [0, 0, 0, ..., 0, 0, 0]]], dtype=uint8)"
      ]
     },
     "execution_count": 80,
     "metadata": {},
     "output_type": "execute_result"
    }
   ],
   "source": [
    "dataset[0][0]"
   ]
  },
  {
   "cell_type": "code",
   "execution_count": 81,
   "metadata": {
    "colab": {
     "base_uri": "https://localhost:8080/"
    },
    "id": "tgGpNHNLdECx",
    "outputId": "35b0c7af-4070-47be-f676-39e637a087f5"
   },
   "outputs": [
    {
     "data": {
      "text/plain": [
       "2"
      ]
     },
     "execution_count": 81,
     "metadata": {},
     "output_type": "execute_result"
    }
   ],
   "source": [
    "len(dataset)  # This indicate that there are 2 datasets - the train and test"
   ]
  },
  {
   "cell_type": "code",
   "execution_count": 82,
   "metadata": {
    "colab": {
     "base_uri": "https://localhost:8080/"
    },
    "id": "p4MnHaSbdaJ8",
    "outputId": "bc2282de-c6a2-452f-b9e1-c2142777bbc9"
   },
   "outputs": [
    {
     "data": {
      "text/plain": [
       "60000"
      ]
     },
     "execution_count": 82,
     "metadata": {},
     "output_type": "execute_result"
    }
   ],
   "source": [
    "len(dataset[0][0])"
   ]
  },
  {
   "cell_type": "code",
   "execution_count": 83,
   "metadata": {
    "id": "aDkllRMXdhjA"
   },
   "outputs": [],
   "source": [
    "# Extract the train and test dataset"
   ]
  },
  {
   "cell_type": "code",
   "execution_count": 84,
   "metadata": {
    "id": "HV7rZOn3eLHO"
   },
   "outputs": [],
   "source": [
    "(X_train, y_train),(X_test, y_test) = dataset"
   ]
  },
  {
   "cell_type": "code",
   "execution_count": 85,
   "metadata": {
    "colab": {
     "base_uri": "https://localhost:8080/"
    },
    "id": "0QFQQE06eZV8",
    "outputId": "a0eb1fcf-fa9e-4ed0-8138-665659caedc0"
   },
   "outputs": [
    {
     "data": {
      "text/plain": [
       "60000"
      ]
     },
     "execution_count": 85,
     "metadata": {},
     "output_type": "execute_result"
    }
   ],
   "source": [
    "len(X_train)"
   ]
  },
  {
   "cell_type": "code",
   "execution_count": 86,
   "metadata": {
    "colab": {
     "base_uri": "https://localhost:8080/"
    },
    "id": "UXJS5ou9ebmx",
    "outputId": "617bc7d0-d13d-4334-897a-12b38e7e6fd9"
   },
   "outputs": [
    {
     "data": {
      "text/plain": [
       "60000"
      ]
     },
     "execution_count": 86,
     "metadata": {},
     "output_type": "execute_result"
    }
   ],
   "source": [
    "len(y_train)"
   ]
  },
  {
   "cell_type": "code",
   "execution_count": 87,
   "metadata": {
    "colab": {
     "base_uri": "https://localhost:8080/"
    },
    "id": "hVV3oW8me7kc",
    "outputId": "afd8bc8a-21f2-409f-fb41-1b332502ddd5"
   },
   "outputs": [
    {
     "data": {
      "text/plain": [
       "10000"
      ]
     },
     "execution_count": 87,
     "metadata": {},
     "output_type": "execute_result"
    }
   ],
   "source": [
    "len(X_test)"
   ]
  },
  {
   "cell_type": "code",
   "execution_count": 88,
   "metadata": {
    "colab": {
     "base_uri": "https://localhost:8080/"
    },
    "id": "qDIkjYsCe-C0",
    "outputId": "9273a18c-0d2c-4f0f-ac7f-7378d5234e59"
   },
   "outputs": [
    {
     "data": {
      "text/plain": [
       "10000"
      ]
     },
     "execution_count": 88,
     "metadata": {},
     "output_type": "execute_result"
    }
   ],
   "source": [
    "len(y_test)"
   ]
  },
  {
   "cell_type": "code",
   "execution_count": 89,
   "metadata": {
    "id": "vxenJq-DfAhB"
   },
   "outputs": [],
   "source": [
    "# Treating each datasets"
   ]
  },
  {
   "cell_type": "code",
   "execution_count": 90,
   "metadata": {
    "colab": {
     "base_uri": "https://localhost:8080/",
     "height": 68
    },
    "id": "YwLczdMbfZgZ",
    "outputId": "d43f48a1-ff10-4740-972c-ad49ce304eec"
   },
   "outputs": [
    {
     "data": {
      "text/html": [
       "<style>\n",
       "      .ndarray_repr .ndarray_raw_data {\n",
       "        display: none;\n",
       "      }\n",
       "      .ndarray_repr.show_array .ndarray_raw_data {\n",
       "        display: block;\n",
       "      }\n",
       "      .ndarray_repr.show_array .ndarray_image_preview {\n",
       "        display: none;\n",
       "      }\n",
       "      </style>\n",
       "      <div id=\"id-95fedd26-cbf8-447b-a8dd-2c7edcbce4a5\" class=\"ndarray_repr\"><pre>ndarray (28, 28) <button style=\"padding: 0 2px;\">show data</button></pre><img src=\"data:image/png;base64,iVBORw0KGgoAAAANSUhEUgAAABwAAAAcCAAAAABXZoBIAAABAElEQVR4nGNgGMyAWUhIqK5jvdSy/9/rGRgYGFhgEnJsVjYCwQwMDAxPJgV+vniQgYGBgREqZ7iXH8r6l/SV4dn7m8gmCt3++/fv37/Htn3/iMW+gDnZf/+e5WbQnoXNNXyMs/5GoQoxwVmf/n9kSGFiwAW49/11wynJoPzx4YIcRlyygR/+/i2XxCWru+vv32nSuGQFYv/83Y3b4p9/fzpAmSyoMnohpiwM1w5h06Q+5enfv39/bcMiJVF09+/fv39P+mFKiTtd/fv3799jgZiBJLT69t+/f/8eDuDEkDJf8+jv379/v7Ryo4qzMDAwMAQGMjBc3/y35wM2V1IfAABFF16Aa0wAOwAAAABJRU5ErkJggg==\" class=\"ndarray_image_preview\" /><pre class=\"ndarray_raw_data\">array([[  0,   0,   0,   0,   0,   0,   0,   0,   0,   0,   0,   0,   0,\n",
       "          0,   0,   0,   0,   0,   0,   0,   0,   0,   0,   0,   0,   0,\n",
       "          0,   0],\n",
       "       [  0,   0,   0,   0,   0,   0,   0,   0,   0,   0,   0,   0,   0,\n",
       "          0,   0,   0,   0,   0,   0,   0,   0,   0,   0,   0,   0,   0,\n",
       "          0,   0],\n",
       "       [  0,   0,   0,   0,   0,   0,   0,   0,   0,   0,   0,   0,   0,\n",
       "          0,   0,   0,   0,   0,   0,   0,   0,   0,   0,   0,   0,   0,\n",
       "          0,   0],\n",
       "       [  0,   0,   0,   0,   0,   0,   0,   0,   0,   0,   0,   0,   0,\n",
       "          0,   0,   0,   0,   0,   0,   0,   0,   0,   0,   0,   0,   0,\n",
       "          0,   0],\n",
       "       [  0,   0,   0,   0,   0,   0,   0,   0,   0,   0,   0,   0,   0,\n",
       "          0,   0,   0,   0,   0,   0,   0,   0,   0,   0,   0,   0,   0,\n",
       "          0,   0],\n",
       "       [  0,   0,   0,   0,   0,   0,   0,   0,   0,   0,   0,   0,   3,\n",
       "         18,  18,  18, 126, 136, 175,  26, 166, 255, 247, 127,   0,   0,\n",
       "          0,   0],\n",
       "       [  0,   0,   0,   0,   0,   0,   0,   0,  30,  36,  94, 154, 170,\n",
       "        253, 253, 253, 253, 253, 225, 172, 253, 242, 195,  64,   0,   0,\n",
       "          0,   0],\n",
       "       [  0,   0,   0,   0,   0,   0,   0,  49, 238, 253, 253, 253, 253,\n",
       "        253, 253, 253, 253, 251,  93,  82,  82,  56,  39,   0,   0,   0,\n",
       "          0,   0],\n",
       "       [  0,   0,   0,   0,   0,   0,   0,  18, 219, 253, 253, 253, 253,\n",
       "        253, 198, 182, 247, 241,   0,   0,   0,   0,   0,   0,   0,   0,\n",
       "          0,   0],\n",
       "       [  0,   0,   0,   0,   0,   0,   0,   0,  80, 156, 107, 253, 253,\n",
       "        205,  11,   0,  43, 154,   0,   0,   0,   0,   0,   0,   0,   0,\n",
       "          0,   0],\n",
       "       [  0,   0,   0,   0,   0,   0,   0,   0,   0,  14,   1, 154, 253,\n",
       "         90,   0,   0,   0,   0,   0,   0,   0,   0,   0,   0,   0,   0,\n",
       "          0,   0],\n",
       "       [  0,   0,   0,   0,   0,   0,   0,   0,   0,   0,   0, 139, 253,\n",
       "        190,   2,   0,   0,   0,   0,   0,   0,   0,   0,   0,   0,   0,\n",
       "          0,   0],\n",
       "       [  0,   0,   0,   0,   0,   0,   0,   0,   0,   0,   0,  11, 190,\n",
       "        253,  70,   0,   0,   0,   0,   0,   0,   0,   0,   0,   0,   0,\n",
       "          0,   0],\n",
       "       [  0,   0,   0,   0,   0,   0,   0,   0,   0,   0,   0,   0,  35,\n",
       "        241, 225, 160, 108,   1,   0,   0,   0,   0,   0,   0,   0,   0,\n",
       "          0,   0],\n",
       "       [  0,   0,   0,   0,   0,   0,   0,   0,   0,   0,   0,   0,   0,\n",
       "         81, 240, 253, 253, 119,  25,   0,   0,   0,   0,   0,   0,   0,\n",
       "          0,   0],\n",
       "       [  0,   0,   0,   0,   0,   0,   0,   0,   0,   0,   0,   0,   0,\n",
       "          0,  45, 186, 253, 253, 150,  27,   0,   0,   0,   0,   0,   0,\n",
       "          0,   0],\n",
       "       [  0,   0,   0,   0,   0,   0,   0,   0,   0,   0,   0,   0,   0,\n",
       "          0,   0,  16,  93, 252, 253, 187,   0,   0,   0,   0,   0,   0,\n",
       "          0,   0],\n",
       "       [  0,   0,   0,   0,   0,   0,   0,   0,   0,   0,   0,   0,   0,\n",
       "          0,   0,   0,   0, 249, 253, 249,  64,   0,   0,   0,   0,   0,\n",
       "          0,   0],\n",
       "       [  0,   0,   0,   0,   0,   0,   0,   0,   0,   0,   0,   0,   0,\n",
       "          0,  46, 130, 183, 253, 253, 207,   2,   0,   0,   0,   0,   0,\n",
       "          0,   0],\n",
       "       [  0,   0,   0,   0,   0,   0,   0,   0,   0,   0,   0,   0,  39,\n",
       "        148, 229, 253, 253, 253, 250, 182,   0,   0,   0,   0,   0,   0,\n",
       "          0,   0],\n",
       "       [  0,   0,   0,   0,   0,   0,   0,   0,   0,   0,  24, 114, 221,\n",
       "        253, 253, 253, 253, 201,  78,   0,   0,   0,   0,   0,   0,   0,\n",
       "          0,   0],\n",
       "       [  0,   0,   0,   0,   0,   0,   0,   0,  23,  66, 213, 253, 253,\n",
       "        253, 253, 198,  81,   2,   0,   0,   0,   0,   0,   0,   0,   0,\n",
       "          0,   0],\n",
       "       [  0,   0,   0,   0,   0,   0,  18, 171, 219, 253, 253, 253, 253,\n",
       "        195,  80,   9,   0,   0,   0,   0,   0,   0,   0,   0,   0,   0,\n",
       "          0,   0],\n",
       "       [  0,   0,   0,   0,  55, 172, 226, 253, 253, 253, 253, 244, 133,\n",
       "         11,   0,   0,   0,   0,   0,   0,   0,   0,   0,   0,   0,   0,\n",
       "          0,   0],\n",
       "       [  0,   0,   0,   0, 136, 253, 253, 253, 212, 135, 132,  16,   0,\n",
       "          0,   0,   0,   0,   0,   0,   0,   0,   0,   0,   0,   0,   0,\n",
       "          0,   0],\n",
       "       [  0,   0,   0,   0,   0,   0,   0,   0,   0,   0,   0,   0,   0,\n",
       "          0,   0,   0,   0,   0,   0,   0,   0,   0,   0,   0,   0,   0,\n",
       "          0,   0],\n",
       "       [  0,   0,   0,   0,   0,   0,   0,   0,   0,   0,   0,   0,   0,\n",
       "          0,   0,   0,   0,   0,   0,   0,   0,   0,   0,   0,   0,   0,\n",
       "          0,   0],\n",
       "       [  0,   0,   0,   0,   0,   0,   0,   0,   0,   0,   0,   0,   0,\n",
       "          0,   0,   0,   0,   0,   0,   0,   0,   0,   0,   0,   0,   0,\n",
       "          0,   0]], dtype=uint8)</pre></div><script>\n",
       "      (() => {\n",
       "      const titles = ['show data', 'hide data'];\n",
       "      let index = 0\n",
       "      document.querySelector('#id-95fedd26-cbf8-447b-a8dd-2c7edcbce4a5 button').onclick = (e) => {\n",
       "        document.querySelector('#id-95fedd26-cbf8-447b-a8dd-2c7edcbce4a5').classList.toggle('show_array');\n",
       "        index = (++index) % 2;\n",
       "        document.querySelector('#id-95fedd26-cbf8-447b-a8dd-2c7edcbce4a5 button').textContent = titles[index];\n",
       "        e.preventDefault();\n",
       "        e.stopPropagation();\n",
       "      }\n",
       "      })();\n",
       "    </script>"
      ],
      "text/plain": [
       "array([[  0,   0,   0,   0,   0,   0,   0,   0,   0,   0,   0,   0,   0,\n",
       "          0,   0,   0,   0,   0,   0,   0,   0,   0,   0,   0,   0,   0,\n",
       "          0,   0],\n",
       "       [  0,   0,   0,   0,   0,   0,   0,   0,   0,   0,   0,   0,   0,\n",
       "          0,   0,   0,   0,   0,   0,   0,   0,   0,   0,   0,   0,   0,\n",
       "          0,   0],\n",
       "       [  0,   0,   0,   0,   0,   0,   0,   0,   0,   0,   0,   0,   0,\n",
       "          0,   0,   0,   0,   0,   0,   0,   0,   0,   0,   0,   0,   0,\n",
       "          0,   0],\n",
       "       [  0,   0,   0,   0,   0,   0,   0,   0,   0,   0,   0,   0,   0,\n",
       "          0,   0,   0,   0,   0,   0,   0,   0,   0,   0,   0,   0,   0,\n",
       "          0,   0],\n",
       "       [  0,   0,   0,   0,   0,   0,   0,   0,   0,   0,   0,   0,   0,\n",
       "          0,   0,   0,   0,   0,   0,   0,   0,   0,   0,   0,   0,   0,\n",
       "          0,   0],\n",
       "       [  0,   0,   0,   0,   0,   0,   0,   0,   0,   0,   0,   0,   3,\n",
       "         18,  18,  18, 126, 136, 175,  26, 166, 255, 247, 127,   0,   0,\n",
       "          0,   0],\n",
       "       [  0,   0,   0,   0,   0,   0,   0,   0,  30,  36,  94, 154, 170,\n",
       "        253, 253, 253, 253, 253, 225, 172, 253, 242, 195,  64,   0,   0,\n",
       "          0,   0],\n",
       "       [  0,   0,   0,   0,   0,   0,   0,  49, 238, 253, 253, 253, 253,\n",
       "        253, 253, 253, 253, 251,  93,  82,  82,  56,  39,   0,   0,   0,\n",
       "          0,   0],\n",
       "       [  0,   0,   0,   0,   0,   0,   0,  18, 219, 253, 253, 253, 253,\n",
       "        253, 198, 182, 247, 241,   0,   0,   0,   0,   0,   0,   0,   0,\n",
       "          0,   0],\n",
       "       [  0,   0,   0,   0,   0,   0,   0,   0,  80, 156, 107, 253, 253,\n",
       "        205,  11,   0,  43, 154,   0,   0,   0,   0,   0,   0,   0,   0,\n",
       "          0,   0],\n",
       "       [  0,   0,   0,   0,   0,   0,   0,   0,   0,  14,   1, 154, 253,\n",
       "         90,   0,   0,   0,   0,   0,   0,   0,   0,   0,   0,   0,   0,\n",
       "          0,   0],\n",
       "       [  0,   0,   0,   0,   0,   0,   0,   0,   0,   0,   0, 139, 253,\n",
       "        190,   2,   0,   0,   0,   0,   0,   0,   0,   0,   0,   0,   0,\n",
       "          0,   0],\n",
       "       [  0,   0,   0,   0,   0,   0,   0,   0,   0,   0,   0,  11, 190,\n",
       "        253,  70,   0,   0,   0,   0,   0,   0,   0,   0,   0,   0,   0,\n",
       "          0,   0],\n",
       "       [  0,   0,   0,   0,   0,   0,   0,   0,   0,   0,   0,   0,  35,\n",
       "        241, 225, 160, 108,   1,   0,   0,   0,   0,   0,   0,   0,   0,\n",
       "          0,   0],\n",
       "       [  0,   0,   0,   0,   0,   0,   0,   0,   0,   0,   0,   0,   0,\n",
       "         81, 240, 253, 253, 119,  25,   0,   0,   0,   0,   0,   0,   0,\n",
       "          0,   0],\n",
       "       [  0,   0,   0,   0,   0,   0,   0,   0,   0,   0,   0,   0,   0,\n",
       "          0,  45, 186, 253, 253, 150,  27,   0,   0,   0,   0,   0,   0,\n",
       "          0,   0],\n",
       "       [  0,   0,   0,   0,   0,   0,   0,   0,   0,   0,   0,   0,   0,\n",
       "          0,   0,  16,  93, 252, 253, 187,   0,   0,   0,   0,   0,   0,\n",
       "          0,   0],\n",
       "       [  0,   0,   0,   0,   0,   0,   0,   0,   0,   0,   0,   0,   0,\n",
       "          0,   0,   0,   0, 249, 253, 249,  64,   0,   0,   0,   0,   0,\n",
       "          0,   0],\n",
       "       [  0,   0,   0,   0,   0,   0,   0,   0,   0,   0,   0,   0,   0,\n",
       "          0,  46, 130, 183, 253, 253, 207,   2,   0,   0,   0,   0,   0,\n",
       "          0,   0],\n",
       "       [  0,   0,   0,   0,   0,   0,   0,   0,   0,   0,   0,   0,  39,\n",
       "        148, 229, 253, 253, 253, 250, 182,   0,   0,   0,   0,   0,   0,\n",
       "          0,   0],\n",
       "       [  0,   0,   0,   0,   0,   0,   0,   0,   0,   0,  24, 114, 221,\n",
       "        253, 253, 253, 253, 201,  78,   0,   0,   0,   0,   0,   0,   0,\n",
       "          0,   0],\n",
       "       [  0,   0,   0,   0,   0,   0,   0,   0,  23,  66, 213, 253, 253,\n",
       "        253, 253, 198,  81,   2,   0,   0,   0,   0,   0,   0,   0,   0,\n",
       "          0,   0],\n",
       "       [  0,   0,   0,   0,   0,   0,  18, 171, 219, 253, 253, 253, 253,\n",
       "        195,  80,   9,   0,   0,   0,   0,   0,   0,   0,   0,   0,   0,\n",
       "          0,   0],\n",
       "       [  0,   0,   0,   0,  55, 172, 226, 253, 253, 253, 253, 244, 133,\n",
       "         11,   0,   0,   0,   0,   0,   0,   0,   0,   0,   0,   0,   0,\n",
       "          0,   0],\n",
       "       [  0,   0,   0,   0, 136, 253, 253, 253, 212, 135, 132,  16,   0,\n",
       "          0,   0,   0,   0,   0,   0,   0,   0,   0,   0,   0,   0,   0,\n",
       "          0,   0],\n",
       "       [  0,   0,   0,   0,   0,   0,   0,   0,   0,   0,   0,   0,   0,\n",
       "          0,   0,   0,   0,   0,   0,   0,   0,   0,   0,   0,   0,   0,\n",
       "          0,   0],\n",
       "       [  0,   0,   0,   0,   0,   0,   0,   0,   0,   0,   0,   0,   0,\n",
       "          0,   0,   0,   0,   0,   0,   0,   0,   0,   0,   0,   0,   0,\n",
       "          0,   0],\n",
       "       [  0,   0,   0,   0,   0,   0,   0,   0,   0,   0,   0,   0,   0,\n",
       "          0,   0,   0,   0,   0,   0,   0,   0,   0,   0,   0,   0,   0,\n",
       "          0,   0]], dtype=uint8)"
      ]
     },
     "execution_count": 90,
     "metadata": {},
     "output_type": "execute_result"
    }
   ],
   "source": [
    "X_train[0]  # This is the pixel representation in arrays for the image at index position 0"
   ]
  },
  {
   "cell_type": "code",
   "execution_count": 91,
   "metadata": {
    "colab": {
     "base_uri": "https://localhost:8080/"
    },
    "id": "GticbNCWfcN_",
    "outputId": "1278a674-b13b-4c6a-bfc7-4a3829534bd7"
   },
   "outputs": [
    {
     "data": {
      "text/plain": [
       "(28, 28)"
      ]
     },
     "execution_count": 91,
     "metadata": {},
     "output_type": "execute_result"
    }
   ],
   "source": [
    "X_train[0].shape"
   ]
  },
  {
   "cell_type": "code",
   "execution_count": 92,
   "metadata": {
    "id": "wsbk6hhXf66X"
   },
   "outputs": [],
   "source": [
    "# To check if the pixels or dimension of an image is different"
   ]
  },
  {
   "cell_type": "code",
   "execution_count": 93,
   "metadata": {
    "id": "oTI7fu3Igohq"
   },
   "outputs": [],
   "source": [
    "for img in X_train:\n",
    "\n",
    "  if img.shape != (28,28):\n",
    "    print(img, 'image shape is different')\n",
    "  else:\n",
    "    pass\n",
    "    #print('The image shape matches.')"
   ]
  },
  {
   "cell_type": "code",
   "execution_count": 94,
   "metadata": {
    "id": "ua0uR0PjxfCv"
   },
   "outputs": [],
   "source": [
    "for img_test in X_test:\n",
    "  if img_test.shape != (28,28):\n",
    "    print('The test image shape is different')\n",
    "  else:\n",
    "    pass"
   ]
  },
  {
   "cell_type": "code",
   "execution_count": 95,
   "metadata": {
    "id": "PRcRW1r1hAEB"
   },
   "outputs": [],
   "source": [
    "# Viewing actual image"
   ]
  },
  {
   "cell_type": "code",
   "execution_count": 96,
   "metadata": {
    "colab": {
     "base_uri": "https://localhost:8080/",
     "height": 454
    },
    "id": "TcDhLz2tiF7y",
    "outputId": "33228059-e952-48eb-a0cf-b7d1d39bf366"
   },
   "outputs": [
    {
     "data": {
      "text/plain": [
       "<matplotlib.image.AxesImage at 0x7cd103bcb520>"
      ]
     },
     "execution_count": 96,
     "metadata": {},
     "output_type": "execute_result"
    },
    {
     "data": {
      "image/png": "[encoded data removed]",
      "text/plain": [
       "<Figure size 480x480 with 1 Axes>"
      ]
     },
     "metadata": {},
     "output_type": "display_data"
    }
   ],
   "source": [
    "plt.matshow(X_train[0])"
   ]
  },
  {
   "cell_type": "code",
   "execution_count": 97,
   "metadata": {
    "colab": {
     "base_uri": "https://localhost:8080/",
     "height": 454
    },
    "id": "AA4ryaAsiMaT",
    "outputId": "619ab3dd-535c-4d08-aa24-5676248d083b"
   },
   "outputs": [
    {
     "data": {
      "text/plain": [
       "<matplotlib.image.AxesImage at 0x7cd100d94cd0>"
      ]
     },
     "execution_count": 97,
     "metadata": {},
     "output_type": "execute_result"
    },
    {
     "data": {
      "image/png": "[encoded data removed]",
      "text/plain": [
       "<Figure size 480x480 with 1 Axes>"
      ]
     },
     "metadata": {},
     "output_type": "display_data"
    }
   ],
   "source": [
    "plt.matshow(X_train[1])"
   ]
  },
  {
   "cell_type": "code",
   "execution_count": 98,
   "metadata": {
    "colab": {
     "base_uri": "https://localhost:8080/"
    },
    "id": "DsxWQfm2B7NZ",
    "outputId": "42ba2d26-b594-4358-b26b-525c3c48fff6"
   },
   "outputs": [
    {
     "data": {
      "text/plain": [
       "5"
      ]
     },
     "execution_count": 98,
     "metadata": {},
     "output_type": "execute_result"
    }
   ],
   "source": [
    "y_train[0]"
   ]
  },
  {
   "cell_type": "code",
   "execution_count": 99,
   "metadata": {
    "colab": {
     "base_uri": "https://localhost:8080/"
    },
    "id": "VLbh_m3vCVHE",
    "outputId": "311f1ab3-7cbe-4443-ac12-efacca7da3b2"
   },
   "outputs": [
    {
     "data": {
      "text/plain": [
       "0"
      ]
     },
     "execution_count": 99,
     "metadata": {},
     "output_type": "execute_result"
    }
   ],
   "source": [
    "y_train[1]"
   ]
  },
  {
   "cell_type": "raw",
   "metadata": {
    "id": "5aJAmvYMCdQF"
   },
   "source": [
    "# The images are not normailized\n",
    "# In normalizing an image, you just use the highest number of the pixel to divide all through such that it result to values between 0 and 1 and this is an important steps\n",
    "# before training the model."
   ]
  },
  {
   "cell_type": "code",
   "execution_count": 101,
   "metadata": {
    "id": "RwMgEw8UC7xW"
   },
   "outputs": [],
   "source": [
    "# For example\n",
    "x = [10, 20, 30, 40, 50]\n",
    "res = []\n",
    "#counter = 0\n",
    "for k in x:\n",
    "  div = k / np.max(x)\n",
    "  res.append(div)\n",
    "  #counter += 1"
   ]
  },
  {
   "cell_type": "code",
   "execution_count": 102,
   "metadata": {
    "colab": {
     "base_uri": "https://localhost:8080/"
    },
    "id": "L82elXuQFe73",
    "outputId": "523915c5-4b34-4ffc-d32b-7ded46858bea"
   },
   "outputs": [
    {
     "data": {
      "text/plain": [
       "[0.2, 0.4, 0.6, 0.8, 1.0]"
      ]
     },
     "execution_count": 102,
     "metadata": {},
     "output_type": "execute_result"
    }
   ],
   "source": [
    "res"
   ]
  },
  {
   "cell_type": "code",
   "execution_count": 103,
   "metadata": {
    "id": "ACTcVYBaFgGt"
   },
   "outputs": [],
   "source": [
    "# We normalize the X_train and X_test"
   ]
  },
  {
   "cell_type": "code",
   "execution_count": 104,
   "metadata": {
    "id": "0pnJLjj-GLHF"
   },
   "outputs": [],
   "source": [
    "# We divided by 255 because it is the standard highest number of pixels for any image that are not greyscale.\n",
    "X_train = X_train / 255\n",
    "X_test = X_test / 255"
   ]
  },
  {
   "cell_type": "code",
   "execution_count": 105,
   "metadata": {
    "colab": {
     "base_uri": "https://localhost:8080/"
    },
    "id": "VTaHr6riGvId",
    "outputId": "626436b9-bc4d-40ae-ab01-8bcc1ee9fc8b"
   },
   "outputs": [
    {
     "data": {
      "text/plain": [
       "array([[0.        , 0.        , 0.        , 0.        , 0.        ,\n",
       "        0.        , 0.        , 0.        , 0.        , 0.        ,\n",
       "        0.        , 0.        , 0.        , 0.        , 0.        ,\n",
       "        0.        , 0.        , 0.        , 0.        , 0.        ,\n",
       "        0.        , 0.        , 0.        , 0.        , 0.        ,\n",
       "        0.        , 0.        , 0.        ],\n",
       "       [0.        , 0.        , 0.        , 0.        , 0.        ,\n",
       "        0.        , 0.        , 0.        , 0.        , 0.        ,\n",
       "        0.        , 0.        , 0.        , 0.        , 0.        ,\n",
       "        0.        , 0.        , 0.        , 0.        , 0.        ,\n",
       "        0.        , 0.        , 0.        , 0.        , 0.        ,\n",
       "        0.        , 0.        , 0.        ],\n",
       "       [0.        , 0.        , 0.        , 0.        , 0.        ,\n",
       "        0.        , 0.        , 0.        , 0.        , 0.        ,\n",
       "        0.        , 0.        , 0.        , 0.        , 0.        ,\n",
       "        0.        , 0.        , 0.        , 0.        , 0.        ,\n",
       "        0.        , 0.        , 0.        , 0.        , 0.        ,\n",
       "        0.        , 0.        , 0.        ],\n",
       "       [0.        , 0.        , 0.        , 0.        , 0.        ,\n",
       "        0.        , 0.        , 0.        , 0.        , 0.        ,\n",
       "        0.        , 0.        , 0.        , 0.        , 0.        ,\n",
       "        0.        , 0.        , 0.        , 0.        , 0.        ,\n",
       "        0.        , 0.        , 0.        , 0.        , 0.        ,\n",
       "        0.        , 0.        , 0.        ],\n",
       "       [0.        , 0.        , 0.        , 0.        , 0.        ,\n",
       "        0.        , 0.        , 0.        , 0.        , 0.        ,\n",
       "        0.        , 0.        , 0.        , 0.        , 0.        ,\n",
       "        0.        , 0.        , 0.        , 0.        , 0.        ,\n",
       "        0.        , 0.        , 0.        , 0.        , 0.        ,\n",
       "        0.        , 0.        , 0.        ],\n",
       "       [0.        , 0.        , 0.        , 0.        , 0.        ,\n",
       "        0.        , 0.        , 0.        , 0.        , 0.        ,\n",
       "        0.        , 0.        , 0.01176471, 0.07058824, 0.07058824,\n",
       "        0.07058824, 0.49411765, 0.53333333, 0.68627451, 0.10196078,\n",
       "        0.65098039, 1.        , 0.96862745, 0.49803922, 0.        ,\n",
       "        0.        , 0.        , 0.        ],\n",
       "       [0.        , 0.        , 0.        , 0.        , 0.        ,\n",
       "        0.        , 0.        , 0.        , 0.11764706, 0.14117647,\n",
       "        0.36862745, 0.60392157, 0.66666667, 0.99215686, 0.99215686,\n",
       "        0.99215686, 0.99215686, 0.99215686, 0.88235294, 0.6745098 ,\n",
       "        0.99215686, 0.94901961, 0.76470588, 0.25098039, 0.        ,\n",
       "        0.        , 0.        , 0.        ],\n",
       "       [0.        , 0.        , 0.        , 0.        , 0.        ,\n",
       "        0.        , 0.        , 0.19215686, 0.93333333, 0.99215686,\n",
       "        0.99215686, 0.99215686, 0.99215686, 0.99215686, 0.99215686,\n",
       "        0.99215686, 0.99215686, 0.98431373, 0.36470588, 0.32156863,\n",
       "        0.32156863, 0.21960784, 0.15294118, 0.        , 0.        ,\n",
       "        0.        , 0.        , 0.        ],\n",
       "       [0.        , 0.        , 0.        , 0.        , 0.        ,\n",
       "        0.        , 0.        , 0.07058824, 0.85882353, 0.99215686,\n",
       "        0.99215686, 0.99215686, 0.99215686, 0.99215686, 0.77647059,\n",
       "        0.71372549, 0.96862745, 0.94509804, 0.        , 0.        ,\n",
       "        0.        , 0.        , 0.        , 0.        , 0.        ,\n",
       "        0.        , 0.        , 0.        ],\n",
       "       [0.        , 0.        , 0.        , 0.        , 0.        ,\n",
       "        0.        , 0.        , 0.        , 0.31372549, 0.61176471,\n",
       "        0.41960784, 0.99215686, 0.99215686, 0.80392157, 0.04313725,\n",
       "        0.        , 0.16862745, 0.60392157, 0.        , 0.        ,\n",
       "        0.        , 0.        , 0.        , 0.        , 0.        ,\n",
       "        0.        , 0.        , 0.        ],\n",
       "       [0.        , 0.        , 0.        , 0.        , 0.        ,\n",
       "        0.        , 0.        , 0.        , 0.        , 0.05490196,\n",
       "        0.00392157, 0.60392157, 0.99215686, 0.35294118, 0.        ,\n",
       "        0.        , 0.        , 0.        , 0.        , 0.        ,\n",
       "        0.        , 0.        , 0.        , 0.        , 0.        ,\n",
       "        0.        , 0.        , 0.        ],\n",
       "       [0.        , 0.        , 0.        , 0.        , 0.        ,\n",
       "        0.        , 0.        , 0.        , 0.        , 0.        ,\n",
       "        0.        , 0.54509804, 0.99215686, 0.74509804, 0.00784314,\n",
       "        0.        , 0.        , 0.        , 0.        , 0.        ,\n",
       "        0.        , 0.        , 0.        , 0.        , 0.        ,\n",
       "        0.        , 0.        , 0.        ],\n",
       "       [0.        , 0.        , 0.        , 0.        , 0.        ,\n",
       "        0.        , 0.        , 0.        , 0.        , 0.        ,\n",
       "        0.        , 0.04313725, 0.74509804, 0.99215686, 0.2745098 ,\n",
       "        0.        , 0.        , 0.        , 0.        , 0.        ,\n",
       "        0.        , 0.        , 0.        , 0.        , 0.        ,\n",
       "        0.        , 0.        , 0.        ],\n",
       "       [0.        , 0.        , 0.        , 0.        , 0.        ,\n",
       "        0.        , 0.        , 0.        , 0.        , 0.        ,\n",
       "        0.        , 0.        , 0.1372549 , 0.94509804, 0.88235294,\n",
       "        0.62745098, 0.42352941, 0.00392157, 0.        , 0.        ,\n",
       "        0.        , 0.        , 0.        , 0.        , 0.        ,\n",
       "        0.        , 0.        , 0.        ],\n",
       "       [0.        , 0.        , 0.        , 0.        , 0.        ,\n",
       "        0.        , 0.        , 0.        , 0.        , 0.        ,\n",
       "        0.        , 0.        , 0.        , 0.31764706, 0.94117647,\n",
       "        0.99215686, 0.99215686, 0.46666667, 0.09803922, 0.        ,\n",
       "        0.        , 0.        , 0.        , 0.        , 0.        ,\n",
       "        0.        , 0.        , 0.        ],\n",
       "       [0.        , 0.        , 0.        , 0.        , 0.        ,\n",
       "        0.        , 0.        , 0.        , 0.        , 0.        ,\n",
       "        0.        , 0.        , 0.        , 0.        , 0.17647059,\n",
       "        0.72941176, 0.99215686, 0.99215686, 0.58823529, 0.10588235,\n",
       "        0.        , 0.        , 0.        , 0.        , 0.        ,\n",
       "        0.        , 0.        , 0.        ],\n",
       "       [0.        , 0.        , 0.        , 0.        , 0.        ,\n",
       "        0.        , 0.        , 0.        , 0.        , 0.        ,\n",
       "        0.        , 0.        , 0.        , 0.        , 0.        ,\n",
       "        0.0627451 , 0.36470588, 0.98823529, 0.99215686, 0.73333333,\n",
       "        0.        , 0.        , 0.        , 0.        , 0.        ,\n",
       "        0.        , 0.        , 0.        ],\n",
       "       [0.        , 0.        , 0.        , 0.        , 0.        ,\n",
       "        0.        , 0.        , 0.        , 0.        , 0.        ,\n",
       "        0.        , 0.        , 0.        , 0.        , 0.        ,\n",
       "        0.        , 0.        , 0.97647059, 0.99215686, 0.97647059,\n",
       "        0.25098039, 0.        , 0.        , 0.        , 0.        ,\n",
       "        0.        , 0.        , 0.        ],\n",
       "       [0.        , 0.        , 0.        , 0.        , 0.        ,\n",
       "        0.        , 0.        , 0.        , 0.        , 0.        ,\n",
       "        0.        , 0.        , 0.        , 0.        , 0.18039216,\n",
       "        0.50980392, 0.71764706, 0.99215686, 0.99215686, 0.81176471,\n",
       "        0.00784314, 0.        , 0.        , 0.        , 0.        ,\n",
       "        0.        , 0.        , 0.        ],\n",
       "       [0.        , 0.        , 0.        , 0.        , 0.        ,\n",
       "        0.        , 0.        , 0.        , 0.        , 0.        ,\n",
       "        0.        , 0.        , 0.15294118, 0.58039216, 0.89803922,\n",
       "        0.99215686, 0.99215686, 0.99215686, 0.98039216, 0.71372549,\n",
       "        0.        , 0.        , 0.        , 0.        , 0.        ,\n",
       "        0.        , 0.        , 0.        ],\n",
       "       [0.        , 0.        , 0.        , 0.        , 0.        ,\n",
       "        0.        , 0.        , 0.        , 0.        , 0.        ,\n",
       "        0.09411765, 0.44705882, 0.86666667, 0.99215686, 0.99215686,\n",
       "        0.99215686, 0.99215686, 0.78823529, 0.30588235, 0.        ,\n",
       "        0.        , 0.        , 0.        , 0.        , 0.        ,\n",
       "        0.        , 0.        , 0.        ],\n",
       "       [0.        , 0.        , 0.        , 0.        , 0.        ,\n",
       "        0.        , 0.        , 0.        , 0.09019608, 0.25882353,\n",
       "        0.83529412, 0.99215686, 0.99215686, 0.99215686, 0.99215686,\n",
       "        0.77647059, 0.31764706, 0.00784314, 0.        , 0.        ,\n",
       "        0.        , 0.        , 0.        , 0.        , 0.        ,\n",
       "        0.        , 0.        , 0.        ],\n",
       "       [0.        , 0.        , 0.        , 0.        , 0.        ,\n",
       "        0.        , 0.07058824, 0.67058824, 0.85882353, 0.99215686,\n",
       "        0.99215686, 0.99215686, 0.99215686, 0.76470588, 0.31372549,\n",
       "        0.03529412, 0.        , 0.        , 0.        , 0.        ,\n",
       "        0.        , 0.        , 0.        , 0.        , 0.        ,\n",
       "        0.        , 0.        , 0.        ],\n",
       "       [0.        , 0.        , 0.        , 0.        , 0.21568627,\n",
       "        0.6745098 , 0.88627451, 0.99215686, 0.99215686, 0.99215686,\n",
       "        0.99215686, 0.95686275, 0.52156863, 0.04313725, 0.        ,\n",
       "        0.        , 0.        , 0.        , 0.        , 0.        ,\n",
       "        0.        , 0.        , 0.        , 0.        , 0.        ,\n",
       "        0.        , 0.        , 0.        ],\n",
       "       [0.        , 0.        , 0.        , 0.        , 0.53333333,\n",
       "        0.99215686, 0.99215686, 0.99215686, 0.83137255, 0.52941176,\n",
       "        0.51764706, 0.0627451 , 0.        , 0.        , 0.        ,\n",
       "        0.        , 0.        , 0.        , 0.        , 0.        ,\n",
       "        0.        , 0.        , 0.        , 0.        , 0.        ,\n",
       "        0.        , 0.        , 0.        ],\n",
       "       [0.        , 0.        , 0.        , 0.        , 0.        ,\n",
       "        0.        , 0.        , 0.        , 0.        , 0.        ,\n",
       "        0.        , 0.        , 0.        , 0.        , 0.        ,\n",
       "        0.        , 0.        , 0.        , 0.        , 0.        ,\n",
       "        0.        , 0.        , 0.        , 0.        , 0.        ,\n",
       "        0.        , 0.        , 0.        ],\n",
       "       [0.        , 0.        , 0.        , 0.        , 0.        ,\n",
       "        0.        , 0.        , 0.        , 0.        , 0.        ,\n",
       "        0.        , 0.        , 0.        , 0.        , 0.        ,\n",
       "        0.        , 0.        , 0.        , 0.        , 0.        ,\n",
       "        0.        , 0.        , 0.        , 0.        , 0.        ,\n",
       "        0.        , 0.        , 0.        ],\n",
       "       [0.        , 0.        , 0.        , 0.        , 0.        ,\n",
       "        0.        , 0.        , 0.        , 0.        , 0.        ,\n",
       "        0.        , 0.        , 0.        , 0.        , 0.        ,\n",
       "        0.        , 0.        , 0.        , 0.        , 0.        ,\n",
       "        0.        , 0.        , 0.        , 0.        , 0.        ,\n",
       "        0.        , 0.        , 0.        ]])"
      ]
     },
     "execution_count": 105,
     "metadata": {},
     "output_type": "execute_result"
    }
   ],
   "source": [
    "X_train[0]"
   ]
  },
  {
   "cell_type": "code",
   "execution_count": 106,
   "metadata": {
    "colab": {
     "base_uri": "https://localhost:8080/",
     "height": 454
    },
    "id": "EkgJkZx7G2HV",
    "outputId": "da28dd23-2168-4162-c58f-cb8237d501fd"
   },
   "outputs": [
    {
     "data": {
      "text/plain": [
       "<matplotlib.image.AxesImage at 0x7cd100df6830>"
      ]
     },
     "execution_count": 106,
     "metadata": {},
     "output_type": "execute_result"
    },
    {
     "data": {
      "image/png": "[encoded data removed]",
      "text/plain": [
       "<Figure size 480x480 with 1 Axes>"
      ]
     },
     "metadata": {},
     "output_type": "display_data"
    }
   ],
   "source": [
    "plt.matshow(X_train[0])   # Normalizing doesnt change the originality of the image."
   ]
  },
  {
   "cell_type": "code",
   "execution_count": 107,
   "metadata": {
    "id": "7fVuq7DIG-9c"
   },
   "outputs": [],
   "source": [
    "# In normalizing, certain amount of information is lost but are not really affecting my model from learning basic concept in the data.\n",
    "# The normalized images becomes dimensional and hence it must be flatten. For neural network, the flatten layers are often present hence no need to manually flatten it."
   ]
  },
  {
   "cell_type": "code",
   "execution_count": 108,
   "metadata": {
    "colab": {
     "base_uri": "https://localhost:8080/"
    },
    "id": "WL7qPczAPra9",
    "outputId": "de58a586-db8a-4e71-d893-c34695157bcf"
   },
   "outputs": [
    {
     "data": {
      "text/plain": [
       "(60000, 28, 28)"
      ]
     },
     "execution_count": 108,
     "metadata": {},
     "output_type": "execute_result"
    }
   ],
   "source": [
    "X_train.shape"
   ]
  },
  {
   "cell_type": "code",
   "execution_count": 109,
   "metadata": {
    "colab": {
     "base_uri": "https://localhost:8080/"
    },
    "id": "MHdw3nVnQWUg",
    "outputId": "91a7a282-fd58-4e0d-9286-29cb2c5b1e68"
   },
   "outputs": [
    {
     "data": {
      "text/plain": [
       "(10000, 28, 28)"
      ]
     },
     "execution_count": 109,
     "metadata": {},
     "output_type": "execute_result"
    }
   ],
   "source": [
    "X_test.shape"
   ]
  },
  {
   "cell_type": "code",
   "execution_count": 110,
   "metadata": {
    "id": "D8e2NNP7QctJ"
   },
   "outputs": [],
   "source": [
    "# Manually flatten the dataset"
   ]
  },
  {
   "cell_type": "code",
   "execution_count": 111,
   "metadata": {
    "id": "y3lGCbTLQ_66"
   },
   "outputs": [],
   "source": [
    "X_train_flatten = X_train.reshape(len(X_train), 28 * 28)\n",
    "X_test_flatten = X_test.reshape(len(X_test), 28 * 28)"
   ]
  },
  {
   "cell_type": "code",
   "execution_count": 112,
   "metadata": {
    "colab": {
     "base_uri": "https://localhost:8080/"
    },
    "id": "0pQ9e2SkRV8E",
    "outputId": "f862228f-bcde-4bc7-b936-80812d6ffe40"
   },
   "outputs": [
    {
     "data": {
      "text/plain": [
       "(60000, 784)"
      ]
     },
     "execution_count": 112,
     "metadata": {},
     "output_type": "execute_result"
    }
   ],
   "source": [
    "# This flatten the dataset into 1D array of 28 * 28 = 784 pixels points\n",
    "X_train_flatten.shape"
   ]
  },
  {
   "cell_type": "code",
   "execution_count": 113,
   "metadata": {
    "colab": {
     "base_uri": "https://localhost:8080/"
    },
    "id": "h_7jOPC8ReXr",
    "outputId": "126733a3-03be-479f-b5c8-f2856163cd3c"
   },
   "outputs": [
    {
     "data": {
      "text/plain": [
       "(10000, 784)"
      ]
     },
     "execution_count": 113,
     "metadata": {},
     "output_type": "execute_result"
    }
   ],
   "source": [
    "X_test_flatten.shape"
   ]
  },
  {
   "cell_type": "code",
   "execution_count": 114,
   "metadata": {
    "id": "ToqIzua_sbVb"
   },
   "outputs": [],
   "source": [
    "# plt.matshow(X_train_flatten[0]) # You cant plot it again because is now 1D array"
   ]
  },
  {
   "cell_type": "markdown",
   "metadata": {
    "id": "upmVAmnze05K"
   },
   "source": [
    "![image.png](data:image/png;base64,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)"
   ]
  },
  {
   "cell_type": "code",
   "execution_count": 115,
   "metadata": {
    "id": "uedlX0kvcz8S"
   },
   "outputs": [],
   "source": [
    "# Defining some convolution parameters"
   ]
  },
  {
   "cell_type": "code",
   "execution_count": 116,
   "metadata": {
    "id": "LwnEd_NNteEm"
   },
   "outputs": [],
   "source": [
    "# The way a neural network learn from data is to create a filter which is the kernel. The filter is a feature extraction for any CNN. You can define it as 2 by 2 or 3 by 3 matrices.\n",
    "# What determines the filter is the complexity of the data or image or sound you are trying to model.\n",
    "# finer details implies smaller kernel. smaller kernel sizes extract finer images.\n",
    "# coarse details implies larger kernel. wider or larger kernel sizes extract coarse images. The larger the kernel size the less sensitive the model will be in identifying contours and finer details in your image.\n",
    "# In reality, the best thing to do is to build multiple models having different kernel sizes which capture different details and this can be use to improve model performance.\n",
    "# The process of shifting from one pixel to the other is called Convolving hence Convolution."
   ]
  },
  {
   "cell_type": "code",
   "execution_count": 117,
   "metadata": {
    "colab": {
     "base_uri": "https://localhost:8080/"
    },
    "id": "bJgVfrPRWr8J",
    "outputId": "8c04ab71-e324-4d4a-a2dd-b8a48e746137"
   },
   "outputs": [
    {
     "data": {
      "text/plain": [
       "(60000, 784)"
      ]
     },
     "execution_count": 117,
     "metadata": {},
     "output_type": "execute_result"
    }
   ],
   "source": [
    "X_train_flatten.shape"
   ]
  },
  {
   "cell_type": "code",
   "execution_count": 118,
   "metadata": {
    "id": "CFrKYWDcXX3O"
   },
   "outputs": [],
   "source": [
    "# We would need 784 nodes that needs to go into the models to learn from it.\n",
    "# If learning rate is high, the model learn noise.\n",
    "# For every convolution we do, we then pool."
   ]
  },
  {
   "cell_type": "markdown",
   "metadata": {
    "id": "C5vEDwdTg_Iu"
   },
   "source": [
    "##### Model buliding"
   ]
  },
  {
   "cell_type": "code",
   "execution_count": 119,
   "metadata": {
    "colab": {
     "base_uri": "https://localhost:8080/"
    },
    "id": "P8ffjRt2fdi9",
    "outputId": "cacd0577-92e6-4d82-d72c-761aca5282a0"
   },
   "outputs": [
    {
     "data": {
      "text/plain": [
       "<keras.src.engine.sequential.Sequential at 0x7cd0e6995f90>"
      ]
     },
     "execution_count": 119,
     "metadata": {},
     "output_type": "execute_result"
    }
   ],
   "source": [
    "model = keras.Sequential([keras.layers.Dense(10, input_shape=(784,), activation='sigmoid')]) # the 10 is the total output lables expected, here it is digit, hence 0 t0 9 is 10 unique labels.\n",
    "model"
   ]
  },
  {
   "cell_type": "code",
   "execution_count": 120,
   "metadata": {
    "id": "pGTrw-MKh2oS"
   },
   "outputs": [],
   "source": [
    "model.compile(optimizer='adam', loss='sparse_categorical_crossentropy', metrics=['accuracy'])"
   ]
  },
  {
   "cell_type": "code",
   "execution_count": 121,
   "metadata": {
    "colab": {
     "base_uri": "https://localhost:8080/"
    },
    "id": "XzltwkJ6ipnL",
    "outputId": "317f7c2c-1687-44f7-98b4-00fe7fe9174c"
   },
   "outputs": [
    {
     "name": "stdout",
     "output_type": "stream",
     "text": [
      "Model: \"sequential_1\"\n",
      "_________________________________________________________________\n",
      " Layer (type)                Output Shape              Param #   \n",
      "=================================================================\n",
      " dense_1 (Dense)             (None, 10)                7850      \n",
      "                                                                 \n",
      "=================================================================\n",
      "Total params: 7850 (30.66 KB)\n",
      "Trainable params: 7850 (30.66 KB)\n",
      "Non-trainable params: 0 (0.00 Byte)\n",
      "_________________________________________________________________\n"
     ]
    }
   ],
   "source": [
    "model.summary()"
   ]
  },
  {
   "cell_type": "code",
   "execution_count": 122,
   "metadata": {
    "colab": {
     "base_uri": "https://localhost:8080/"
    },
    "id": "uOzaNHAwiwcg",
    "outputId": "e6d12f51-bc49-4999-a1de-9a11be5bbfba"
   },
   "outputs": [
    {
     "name": "stdout",
     "output_type": "stream",
     "text": [
      "Epoch 1/5\n",
      "1875/1875 [==============================] - 12s 6ms/step - loss: 0.4644 - accuracy: 0.8791\n",
      "Epoch 2/5\n",
      "1875/1875 [==============================] - 10s 5ms/step - loss: 0.3035 - accuracy: 0.9154\n",
      "Epoch 3/5\n",
      "1875/1875 [==============================] - 8s 4ms/step - loss: 0.2833 - accuracy: 0.9202\n",
      "Epoch 4/5\n",
      "1875/1875 [==============================] - 10s 5ms/step - loss: 0.2733 - accuracy: 0.9236\n",
      "Epoch 5/5\n",
      "1875/1875 [==============================] - 6s 3ms/step - loss: 0.2666 - accuracy: 0.9252\n"
     ]
    },
    {
     "data": {
      "text/plain": [
       "<keras.src.callbacks.History at 0x7cd0e69bab00>"
      ]
     },
     "execution_count": 122,
     "metadata": {},
     "output_type": "execute_result"
    }
   ],
   "source": [
    "model.fit(X_train_flatten, y_train, epochs=5)"
   ]
  },
  {
   "cell_type": "code",
   "execution_count": 123,
   "metadata": {
    "id": "pdtxF68akRHK"
   },
   "outputs": [],
   "source": [
    "# predict the performance on the test data"
   ]
  },
  {
   "cell_type": "code",
   "execution_count": 124,
   "metadata": {
    "colab": {
     "base_uri": "https://localhost:8080/"
    },
    "id": "axKe1fGMlcq-",
    "outputId": "592d9158-6081-409d-8b8c-9d6af14a772a"
   },
   "outputs": [
    {
     "name": "stdout",
     "output_type": "stream",
     "text": [
      "313/313 [==============================] - 1s 3ms/step - loss: 0.2674 - accuracy: 0.9264\n"
     ]
    },
    {
     "data": {
      "text/plain": [
       "[0.26741012930870056, 0.9264000058174133]"
      ]
     },
     "execution_count": 124,
     "metadata": {},
     "output_type": "execute_result"
    }
   ],
   "source": [
    "model.evaluate(X_test_flatten, y_test)"
   ]
  },
  {
   "cell_type": "code",
   "execution_count": 125,
   "metadata": {
    "colab": {
     "base_uri": "https://localhost:8080/"
    },
    "id": "HaIHkLTPlpia",
    "outputId": "ee07307f-8e93-4fff-8be8-cd47d4938e1b"
   },
   "outputs": [
    {
     "name": "stdout",
     "output_type": "stream",
     "text": [
      "313/313 [==============================] - 1s 3ms/step\n"
     ]
    }
   ],
   "source": [
    "y_pred = model.predict(X_test_flatten)"
   ]
  },
  {
   "cell_type": "code",
   "execution_count": 126,
   "metadata": {
    "colab": {
     "base_uri": "https://localhost:8080/"
    },
    "id": "QB1EUf4nmZ4P",
    "outputId": "d9262f12-3a2e-4780-f7d7-1a0114bbc794"
   },
   "outputs": [
    {
     "data": {
      "text/plain": [
       "array([2.4380954e-02, 2.5581306e-07, 3.8301367e-02, 9.4936478e-01,\n",
       "       2.5049699e-03, 1.3908859e-01, 2.2876336e-06, 9.9975431e-01,\n",
       "       8.8654913e-02, 5.9881103e-01], dtype=float32)"
      ]
     },
     "execution_count": 126,
     "metadata": {},
     "output_type": "execute_result"
    }
   ],
   "source": [
    "y_pred[0]   # This output are probabilities, hence we pick the highest probabilities and its position from 0 is the predicted number."
   ]
  },
  {
   "cell_type": "code",
   "execution_count": 127,
   "metadata": {
    "colab": {
     "base_uri": "https://localhost:8080/",
     "height": 454
    },
    "id": "Cv28KIQ3meoo",
    "outputId": "70f0f2ac-161f-4706-94eb-5156b014cf18"
   },
   "outputs": [
    {
     "data": {
      "text/plain": [
       "<matplotlib.image.AxesImage at 0x7cd11fd59660>"
      ]
     },
     "execution_count": 127,
     "metadata": {},
     "output_type": "execute_result"
    },
    {
     "data": {
      "image/png": "[encoded data removed]",
      "text/plain": [
       "<Figure size 480x480 with 1 Axes>"
      ]
     },
     "metadata": {},
     "output_type": "display_data"
    }
   ],
   "source": [
    "plt.matshow(X_test[0])  # To plot, you use the original X_test before flatten"
   ]
  },
  {
   "cell_type": "code",
   "execution_count": 128,
   "metadata": {
    "colab": {
     "base_uri": "https://localhost:8080/"
    },
    "id": "zBnZ5IHcnCFr",
    "outputId": "83fddd21-3124-4ded-b1f9-b1f7e9c3760a"
   },
   "outputs": [
    {
     "data": {
      "text/plain": [
       "7"
      ]
     },
     "execution_count": 128,
     "metadata": {},
     "output_type": "execute_result"
    }
   ],
   "source": [
    "np.argmax(y_pred[0])  # This is convert to the actual digit predicted using the highest probabilities, thanks to argmax function."
   ]
  },
  {
   "cell_type": "code",
   "execution_count": 129,
   "metadata": {
    "colab": {
     "base_uri": "https://localhost:8080/"
    },
    "id": "x5MUXyg1noIk",
    "outputId": "c13efcd2-4809-4a5d-8926-2a171f32f856"
   },
   "outputs": [
    {
     "data": {
      "text/plain": [
       "array([[2.4380954e-02, 2.5581306e-07, 3.8301367e-02, ..., 9.9975431e-01,\n",
       "        8.8654913e-02, 5.9881103e-01],\n",
       "       [5.0776386e-01, 6.8594459e-03, 9.9966908e-01, ..., 7.5341101e-13,\n",
       "        1.7381650e-01, 2.7155747e-09],\n",
       "       [3.6120386e-04, 9.9369115e-01, 6.2559611e-01, ..., 1.2570192e-01,\n",
       "        3.3840039e-01, 4.2298246e-02],\n",
       "       ...,\n",
       "       [4.6136151e-06, 2.6571547e-06, 1.1196641e-03, ..., 2.1973759e-01,\n",
       "        5.0205499e-01, 7.6580673e-01],\n",
       "       [1.2544538e-04, 1.5987840e-04, 1.3438004e-04, ..., 3.7057245e-05,\n",
       "        5.9039301e-01, 9.4231131e-05],\n",
       "       [1.5740767e-02, 3.8048759e-10, 2.2752623e-01, ..., 2.8682965e-08,\n",
       "        2.5642588e-04, 4.1808440e-07]], dtype=float32)"
      ]
     },
     "execution_count": 129,
     "metadata": {},
     "output_type": "execute_result"
    }
   ],
   "source": [
    "y_pred"
   ]
  },
  {
   "cell_type": "code",
   "execution_count": 130,
   "metadata": {
    "colab": {
     "base_uri": "https://localhost:8080/"
    },
    "id": "xzbSjTDmn8wQ",
    "outputId": "200605fb-8b25-4987-c72b-cf121f09e514"
   },
   "outputs": [
    {
     "data": {
      "text/plain": [
       "[7, 2, 1, 0, 4]"
      ]
     },
     "execution_count": 130,
     "metadata": {},
     "output_type": "execute_result"
    }
   ],
   "source": [
    "y_pred_labels = [np.argmax(k) for k in y_pred]   # Convert all y_predicted probabilities to actual predicted digit using argmax and list comprehension.\n",
    "y_pred_labels[:5]"
   ]
  },
  {
   "cell_type": "code",
   "execution_count": 131,
   "metadata": {
    "colab": {
     "base_uri": "https://localhost:8080/"
    },
    "id": "IEm43TAtoHBU",
    "outputId": "424fc7c3-59c9-4588-bb53-96a53ba3b3df"
   },
   "outputs": [
    {
     "data": {
      "text/plain": [
       "array([7, 2, 1, 0, 4], dtype=uint8)"
      ]
     },
     "execution_count": 131,
     "metadata": {},
     "output_type": "execute_result"
    }
   ],
   "source": [
    "y_test[:5]  # The ground truth. The actual digits"
   ]
  },
  {
   "cell_type": "code",
   "execution_count": 132,
   "metadata": {
    "colab": {
     "base_uri": "https://localhost:8080/"
    },
    "id": "2L5zfw0RoQci",
    "outputId": "e64a7099-693d-422e-9813-03a61429789c"
   },
   "outputs": [
    {
     "data": {
      "text/plain": [
       "array([ True,  True,  True,  True,  True,  True,  True,  True, False,\n",
       "        True])"
      ]
     },
     "execution_count": 132,
     "metadata": {},
     "output_type": "execute_result"
    }
   ],
   "source": [
    "y_pred_labels[:10] == y_test[:10]"
   ]
  },
  {
   "cell_type": "code",
   "execution_count": 133,
   "metadata": {
    "id": "0dUVEce2oZ0p"
   },
   "outputs": [],
   "source": [
    "# Confusion matrix:\n",
    "# It gives n X n matrix table where you can see the challenges the model is facing in predicting each unique labels in the data. It is the most useful and powerful tools or metrics in interpreting the robustness of a model.\n",
    "# For any neural network model built, alays construct the confusion matrix."
   ]
  },
  {
   "cell_type": "code",
   "execution_count": 134,
   "metadata": {
    "colab": {
     "base_uri": "https://localhost:8080/"
    },
    "id": "7qt45Q2YqI5j",
    "outputId": "76932066-68fa-46e1-a80e-3d71d87da3c6"
   },
   "outputs": [
    {
     "data": {
      "text/plain": [
       "<tf.Tensor: shape=(10, 10), dtype=int32, numpy=\n",
       "array([[ 962,    0,    1,    2,    0,    5,    7,    2,    1,    0],\n",
       "       [   0, 1112,    3,    2,    0,    1,    4,    2,   11,    0],\n",
       "       [   8,    8,  927,   13,    9,    5,   12,    9,   37,    4],\n",
       "       [   4,    0,   22,  906,    1,   35,    2,   10,   22,    8],\n",
       "       [   1,    1,    3,    2,  917,    0,   12,    4,    9,   33],\n",
       "       [   9,    2,    3,   21,    9,  792,   15,    5,   29,    7],\n",
       "       [  12,    3,    5,    1,    7,   10,  917,    2,    1,    0],\n",
       "       [   1,    5,   23,    6,    9,    1,    0,  948,    2,   33],\n",
       "       [   7,    7,    6,   16,    9,   33,    9,   10,  870,    7],\n",
       "       [  11,    7,    1,   10,   28,    9,    0,   24,    6,  913]],\n",
       "      dtype=int32)>"
      ]
     },
     "execution_count": 134,
     "metadata": {},
     "output_type": "execute_result"
    }
   ],
   "source": [
    "conf_matrix = tf.math.confusion_matrix(labels=y_test, predictions=y_pred_labels)  # tensorflow has inbuilt confusion_matrix library\n",
    "conf_matrix"
   ]
  },
  {
   "cell_type": "code",
   "execution_count": 135,
   "metadata": {
    "colab": {
     "base_uri": "https://localhost:8080/",
     "height": 713
    },
    "id": "Lj8WRJ9oqYd_",
    "outputId": "54eed65b-330e-40c6-de70-8535f3118cd5"
   },
   "outputs": [
    {
     "data": {
      "text/plain": [
       "Text(158.22222222222223, 0.5, 'ground truth')"
      ]
     },
     "execution_count": 135,
     "metadata": {},
     "output_type": "execute_result"
    },
    {
     "data": {
      "image/png": "[encoded data removed]",
      "text/plain": [
       "<Figure size 1500x800 with 2 Axes>"
      ]
     },
     "metadata": {},
     "output_type": "display_data"
    }
   ],
   "source": [
    "# Displaying the Confusion Matrix\n",
    "import seaborn as sb\n",
    "\n",
    "plt.figure(figsize=(15,8 ))\n",
    "\n",
    "sb.heatmap(conf_matrix, annot=True, fmt='d')\n",
    "plt.xlabel('predicted')\n",
    "plt.ylabel('ground truth')"
   ]
  },
  {
   "cell_type": "code",
   "execution_count": 136,
   "metadata": {
    "id": "goRp5RHAq-c_"
   },
   "outputs": [],
   "source": [
    "# Interpreting the confusion matrix:\n",
    "# for the prediction of 0, we can see that, 11 instances of 9 was predicted as 0 and it correctly predicted 962 instances of 0 was rightly predicted.\n",
    "# The model is struggling and mixing 5 for 8 and 8 for 5. It predicted 33 instances of 8 as 5 and predicted 29 instances of 5 as 8, hence we cannot say the model performance is 92.6% accross board. It is clear that it is not\n",
    "# 92.6% for both 5 and 8."
   ]
  },
  {
   "cell_type": "code",
   "execution_count": null,
   "metadata": {},
   "outputs": [],
   "source": []
  },
  {
   "cell_type": "code",
   "execution_count": null,
   "metadata": {},
   "outputs": [],
   "source": []
  }
 ],
 "metadata": {
  "colab": {
   "provenance": []
  },
  "kernelspec": {
   "display_name": "Python 3 (ipykernel)",
   "language": "python",
   "name": "python3"
  },
  "language_info": {
   "codemirror_mode": {
    "name": "ipython",
    "version": 3
   },
   "file_extension": ".py",
   "mimetype": "text/x-python",
   "name": "python",
   "nbconvert_exporter": "python",
   "pygments_lexer": "ipython3",
   "version": "3.12.1"
  }
 },
 "nbformat": 4,
 "nbformat_minor": 4
}
